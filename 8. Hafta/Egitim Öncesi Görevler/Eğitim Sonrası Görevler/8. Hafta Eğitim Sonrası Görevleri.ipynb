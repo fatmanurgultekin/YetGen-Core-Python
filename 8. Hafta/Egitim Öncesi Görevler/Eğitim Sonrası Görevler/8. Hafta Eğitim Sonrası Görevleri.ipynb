{
 "cells": [
  {
   "attachments": {},
   "cell_type": "markdown",
   "metadata": {},
   "source": [
    "# Problem 1\n",
    "\n",
    "Şimdi beraber kullanıcılardan aldığımız verileri işleyerek, onlara hem çıktı verecek, hem de aldığımız ve hesapladığımız verileri ileride kullanabilmek adına kaydedeceğiz.\n",
    "\n",
    "\n",
    " **Bu bir veri giriş platformu olacak**\n",
    "\n",
    "\n",
    " * kullanıcıya kaç giriş yapacağını soracağız\n",
    "* kullanıcıdan isim-soyisim, yaş, boy, kilo bilgilerini alarak VKİ hesaplayacağız\n",
    "* ardından bunları sınıflara göre kaydedeceğiz bir dosyaya kaydedeceğiz\n",
    "\n",
    "\n",
    "Sınıflar ise şu şekilde: \n",
    "* 18, 5 kg/m.'nin altında olanlar: Zayıf\n",
    "* 18.5 – 24, 9 kg/m. arasında olanlar: Normal kilolu\n",
    "* 25 – 29, 9 kg/m. arasında olanlar: Fazla kilolu\n",
    "* 30 – 39, 9 kg/m. arasında olanlar: Obez\n",
    "* 40 kg/m.'nin üzerinde olanlar: İleri derecede obez (morbid obez), olarak görülür."
   ]
  },
  {
   "cell_type": "code",
   "execution_count": null,
   "metadata": {},
   "outputs": [],
   "source": [
    "import time\n",
    "def vki_hesapla(kilo,boy):\n",
    "    vki=kilo/(boy**2)\n",
    "    return round(vki,1)\n",
    "def deger_araligi(vki):\n",
    "    if vki<18.5:\n",
    "        return \"Zayıf\"\n",
    "    elif vki<=24.9:\n",
    "        return \"Normal kilolu\"\n",
    "    elif vki<=29.9:\n",
    "        return \"Fazla kilolu\"\n",
    "    elif vki<=39.9:\n",
    "        return \"Obez\"\n",
    "    else:\n",
    "        return \"İleri obez\"\n",
    "def cikti_olustur(isim,yas,boy,kilo,vki,deger):\n",
    "    kayit=time.ctime(time.time())\n",
    "    t1=f\"isim:{isim}\\n\"\n",
    "    t2=f\"yaş:{yas}\\n boy:{boy}cm\\n, kilo:{kilo}\"\n",
    "    t3=f\"vücut kitle indeksi:{vki}\\n\"\n",
    "    t4=f\"değer aralığı:{deger}\\n\"\n",
    "    t5: f\"kayıt tarihi:{kayit}\\n\"\n",
    "    output=t1+t2+t3+t4+t5\n",
    "    return output\n",
    "def main():\n",
    "    giris_sayisi=int(input(\"kişi sayısı:\"))\n",
    "    for i in range(giris_sayisi):\n",
    "        print(f\"kullanıcı kayıt{i+1}\")\n",
    "        isim=input(\"isim soyisim:\")\n",
    "        yas=int(input(\"yaş:\"))\n",
    "        kilo=float(input(\"kilo:\"))\n",
    "        boy=float(input(\"boy(m):\"))\n",
    "        vki=vki_hesapla(kilo,boy)\n",
    "        deger=deger_araligi(vki)\n",
    "        output=cikti_olustur(isim,yas,kilo,boy,vki,deger)\n",
    "        with open(\"kayitlar.txt\",\"a\") as file:\n",
    "            file.write(output)\n",
    "            file.write(\"\\n\")\n",
    "            file.close()\n",
    "            print(\"Kaydedildi.\")\n",
    "    \n",
    "\n"
   ]
  },
  {
   "attachments": {},
   "cell_type": "markdown",
   "metadata": {},
   "source": [
    "# Problem 2\n",
    "**YetBar - Smoothie Bank**\n",
    "---\n",
    "YetBar spor salonunun girişinde bulunan, insansız bir sağlıklı içecek otomatıdır. Kullanıcı çeşitli girdiler smoothie içeceğine koyacağı ürünleri belirleyebilir, fiyat hesaplaması yaptırabilir ya da sadece menüyü görüntüleyebilir.\n",
    "\n",
    "**Projenin Amacı:**\n",
    "\n",
    "*   Birbirini etkileyen ve bir kod içerisinde birden fazla defa başvurulacak fonksiyonların oluşturulup, \"fonksiyonel\" proglamlamak.\n",
    "*   Büyük programları yazarken, yazılımcı olarak yapabileceğimiz hatalardan kaçınmak için kontrol yöntemleri geliştirmek.\n",
    "*   Kullanıcı inputlarını ve yaptığımız hesapları, raporlamak/loglamak amacıyla kaydetmek.\n",
    "\n",
    "**Programdan Beklenen Çıktılar**\n",
    "* Program kullanıcıya temelde 2 farklı işlem yapma imkanı sağlar.\n",
    "> 1. Menüyü görüntüleme\n",
    "> 3. Satın alma\n",
    "* Satın alınan her içecek tarih, fiyat bilgisi ile kaydedilmeli ve her zaman ulaşılabilir olmalıdır.\n",
    "\n",
    "\n"
   ]
  },
  {
   "cell_type": "code",
   "execution_count": null,
   "metadata": {},
   "outputs": [],
   "source": [
    "# 2.Problemin Çözümünü Buraya Yazınız"
   ]
  }
 ],
 "metadata": {
  "kernelspec": {
   "display_name": "Python 3",
   "language": "python",
   "name": "python3"
  },
  "language_info": {
   "name": "python",
   "version": "3.10.5 (tags/v3.10.5:f377153, Jun  6 2022, 16:14:13) [MSC v.1929 64 bit (AMD64)]"
  },
  "orig_nbformat": 4,
  "vscode": {
   "interpreter": {
    "hash": "5026d2d6e7aaaaba093def813beadff083d8733e4a511af01735cbabd156995d"
   }
  }
 },
 "nbformat": 4,
 "nbformat_minor": 2
}
